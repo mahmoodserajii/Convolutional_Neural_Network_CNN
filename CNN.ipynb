{
 "cells": [
  {
   "cell_type": "markdown",
   "id": "63c9b242",
   "metadata": {},
   "source": [
    "# End-to-End Machine Learning Pipeline using CNN"
   ]
  },
  {
   "cell_type": "markdown",
   "id": "2275c38f",
   "metadata": {},
   "source": [
    "## Introduction to the Problem and Dataset\n",
    "The MNIST (Modified National Institute of Standards and Technology) dataset is a classic benchmark in the field of machine learning and computer vision, specifically for the task of handwritten digit recognition. The problem involves classifying grayscale images of handwritten digits (from 0 to 9) into their corresponding numerical labels. This is a multi-class classification task that simulates real-world applications like optical character recognition (OCR) in postal services or check processing.\n",
    "The dataset consists of 70,000 images, each 28x28 pixels in size, with pixel values ranging from 0 (black) to 255 (white). It is divided into 60,000 training examples and 10,000 test examples. MNIST is widely used because it is simple yet challenging enough to test models for issues like variability in handwriting styles, noise, and distortions. Convolutional Neural Networks (CNNs) excel here due to their ability to capture spatial hierarchies in images, achieving accuracies above 99% with proper design. This pipeline demonstrates an end-to-end approach to solve this classification problem, from data loading to evaluation."
   ]
  },
  {
   "cell_type": "markdown",
   "id": "09b5f31e",
   "metadata": {},
   "source": [
    "## Loading Libraries\n",
    "We will use several essential Python libraries for this project. Each has a specific role:\n",
    "\n",
    "    NumPy: A fundamental package for numerical computations, particularly for handling arrays. We'll use it to manipulate our image data.\n",
    "\n",
    "    Pandas: A powerful data analysis library. While we'll load the dataset with Keras, a typical pipeline would use Pandas for data loading from a CSV file.\n",
    "\n",
    "    Matplotlib: A plotting library for creating static, interactive, and animated visualizations in Python. We'll use it to display sample images and plot performance metrics.\n",
    "\n",
    "    Scikit-Learn: A simple and efficient tool for machine learning. We will use it for splitting our dataset and for evaluating model performance.\n",
    "\n",
    "    TensorFlow/Keras: A leading open-source library for building and training machine learning models. We will use it to construct our CNN."
   ]
  },
  {
   "cell_type": "code",
   "execution_count": 5,
   "id": "fd672cdf",
   "metadata": {},
   "outputs": [],
   "source": [
    "import numpy as np\n",
    "import pandas as pd\n",
    "import matplotlib.pyplot as plt\n",
    "from sklearn.model_selection import train_test_split\n",
    "from sklearn.metrics import confusion_matrix, classification_report\n",
    "import tensorflow as tf\n",
    "from tensorflow import keras\n",
    "from tensorflow.keras.models import Sequential\n",
    "from tensorflow.keras.layers import Conv2D, MaxPooling2D, Flatten, Dense, Dropout\n",
    "from tensorflow.keras.callbacks import EarlyStopping"
   ]
  },
  {
   "cell_type": "markdown",
   "id": "60747171",
   "metadata": {},
   "source": [
    "## Loading Dataset\n",
    "The MNIST dataset is a collection of 70,000 grayscale images, each a 28x28 pixel representation of a handwritten digit. The dataset is split into 60,000 training images and 10,000 testing images. Each image is paired with a label indicating the digit it represents (0-9)."
   ]
  },
  {
   "cell_type": "code",
   "execution_count": 6,
   "id": "dd5e75bf",
   "metadata": {},
   "outputs": [
    {
     "name": "stdout",
     "output_type": "stream",
     "text": [
      "Downloading data from https://storage.googleapis.com/tensorflow/tf-keras-datasets/mnist.npz\n",
      "\u001b[1m11490434/11490434\u001b[0m \u001b[32m━━━━━━━━━━━━━━━━━━━━\u001b[0m\u001b[37m\u001b[0m \u001b[1m8s\u001b[0m 1us/step\n"
     ]
    }
   ],
   "source": [
    "# Load the MNIST dataset directly from Keras\n",
    "(X_train, y_train), (X_test, y_test) = keras.datasets.mnist.load_data()"
   ]
  },
  {
   "cell_type": "code",
   "execution_count": 7,
   "id": "473e39b8",
   "metadata": {},
   "outputs": [
    {
     "name": "stdout",
     "output_type": "stream",
     "text": [
      "Original training data shape: (60000, 28, 28)\n",
      "Original training labels shape: (60000,)\n",
      "Original test data shape: (10000, 28, 28)\n",
      "Original test labels shape: (10000,)\n"
     ]
    }
   ],
   "source": [
    "# Check the shapes of the loaded data\n",
    "print(f\"Original training data shape: {X_train.shape}\")\n",
    "print(f\"Original training labels shape: {y_train.shape}\")\n",
    "print(f\"Original test data shape: {X_test.shape}\")\n",
    "print(f\"Original test labels shape: {y_test.shape}\")"
   ]
  },
  {
   "cell_type": "code",
   "execution_count": 8,
   "id": "3db19c6e",
   "metadata": {},
   "outputs": [
    {
     "data": {
      "image/png": "[encoded data removed]",
      "text/plain": [
       "<Figure size 1000x500 with 10 Axes>"
      ]
     },
     "metadata": {},
     "output_type": "display_data"
    }
   ],
   "source": [
    "# Display a few sample images\n",
    "plt.figure(figsize=(10, 5))\n",
    "for i in range(10):\n",
    "    ax = plt.subplot(2, 5, i + 1)\n",
    "    plt.imshow(X_train[i], cmap='gray')\n",
    "    plt.title(f\"Label: {y_train[i]}\")\n",
    "    plt.axis('off')\n",
    "plt.show()"
   ]
  },
  {
   "cell_type": "code",
   "execution_count": 9,
   "id": "c6ef0cb6",
   "metadata": {},
   "outputs": [
    {
     "name": "stdout",
     "output_type": "stream",
     "text": [
      "\n",
      "Training set class distribution:\n",
      "Digit 0: 5923 samples\n",
      "Digit 1: 6742 samples\n",
      "Digit 2: 5958 samples\n",
      "Digit 3: 6131 samples\n",
      "Digit 4: 5842 samples\n",
      "Digit 5: 5421 samples\n",
      "Digit 6: 5918 samples\n",
      "Digit 7: 6265 samples\n",
      "Digit 8: 5851 samples\n",
      "Digit 9: 5949 samples\n"
     ]
    }
   ],
   "source": [
    "# Display class distribution\n",
    "unique, counts = np.unique(y_train, return_counts=True)\n",
    "print(\"\\nTraining set class distribution:\")\n",
    "for digit, count in zip(unique, counts):\n",
    "    print(f\"Digit {digit}: {count} samples\")"
   ]
  },
  {
   "cell_type": "markdown",
   "id": "e430d01a",
   "metadata": {},
   "source": [
    "## Preprocessing\n",
    "Before feeding the data into a CNN, we need to preprocess it.\n",
    "- Normalization: The pixel values of the images range from 0 to 255. We scale these values down to a range of 0 to 1 by  dividing by 255. This helps the model converge faster and improves training stability.\n",
    "\n",
    "- Reshaping: A CNN model expects a 4D tensor input. The (num_samples, height, width, channels) format. For our grayscale images, the number of channels is 1. Therefore, we reshape our data from (60000, 28, 28) to (60000, 28, 28, 1)."
   ]
  },
  {
   "cell_type": "code",
   "execution_count": 10,
   "id": "12804b82",
   "metadata": {},
   "outputs": [
    {
     "name": "stdout",
     "output_type": "stream",
     "text": [
      "\n",
      "Reshaped training data shape: (60000, 28, 28, 1)\n",
      "Reshaped test data shape: (10000, 28, 28, 1)\n"
     ]
    }
   ],
   "source": [
    "# Normalize the pixel values\n",
    "X_train = X_train.astype('float32') / 255.0\n",
    "X_test = X_test.astype('float32') / 255.0\n",
    "\n",
    "# Reshape the data for the CNN model\n",
    "X_train = X_train.reshape(-1, 28, 28, 1)\n",
    "X_test = X_test.reshape(-1, 28, 28, 1)\n",
    "\n",
    "print(f\"\\nReshaped training data shape: {X_train.shape}\")\n",
    "print(f\"Reshaped test data shape: {X_test.shape}\")"
   ]
  },
  {
   "cell_type": "markdown",
   "id": "206567f6",
   "metadata": {},
   "source": [
    "## Feature Engineering\n",
    "\n",
    "For image data, feature engineering is often implicitly handled by the CNN itself. The convolutional layers act as automatic feature extractors, learning to identify important features like edges, corners, and textures. Therefore, we do not need to perform manual feature engineering."
   ]
  },
  {
   "cell_type": "markdown",
   "id": "1ccd84a7",
   "metadata": {},
   "source": [
    "## Splitting the Dataset\n",
    "\n",
    "We need to split our dataset into three distinct sets: a training set, a validation set, and a test set. The training set is used to train the model, the validation set is used during training to tune hyperparameters and prevent overfitting, and the test set is used only once at the very end to evaluate the final, best model on unseen data. This ensures an unbiased estimate of the model's performance."
   ]
  },
  {
   "cell_type": "code",
   "execution_count": 11,
   "id": "19653711",
   "metadata": {},
   "outputs": [
    {
     "name": "stdout",
     "output_type": "stream",
     "text": [
      "\n",
      "Final training data shape: (54000, 28, 28, 1)\n",
      "Validation data shape: (6000, 28, 28, 1)\n"
     ]
    }
   ],
   "source": [
    "# Split the training data into training and validation sets\n",
    "X_train, X_val, y_train, y_val = train_test_split(X_train, y_train, test_size=0.1, random_state=42)\n",
    "\n",
    "print(f\"\\nFinal training data shape: {X_train.shape}\")\n",
    "print(f\"Validation data shape: {X_val.shape}\")"
   ]
  },
  {
   "cell_type": "markdown",
   "id": "d7b3ad5a",
   "metadata": {},
   "source": [
    "## Model Training and Hyperparameter Tuning\n",
    "- Hyperparameter: \n",
    "\n",
    "A hyperparameter is a configuration variable external to the model that is set by the programmer before the training process begins. In contrast, model parameters (like weights and biases) are learned during training. For a CNN, key hyperparameters include the number of convolutional layers, the number of filters in each layer, the kernel size, the pooling size, the number of dense layers, the learning rate, and the dropout rate.\n",
    "\n",
    "- The CNN Model:\n",
    "\n",
    "A Convolutional Neural Network (CNN) is a specialized type of neural network designed to process data with a grid-like topology, such as images. It works by applying a series of convolutional filters that detect patterns and features in the input data.\n",
    "\n",
    "1. Convolutional Layers: These layers slide a small matrix (the filter or kernel) over the input image, performing element-wise multiplication and summing the results to create a feature map. This process helps the network learn spatial hierarchies of features.\n",
    "\n",
    "2. Pooling Layers: These layers down-sample the feature maps, reducing their size and computational complexity while retaining the most important information. Max pooling is a common type, which takes the maximum value from a specified window.\n",
    "\n",
    "3. Flatten Layer: This layer takes the final pooled feature map and flattens it into a 1D vector, preparing it for the fully connected layers.\n",
    "\n",
    "4. Dense (Fully Connected) Layers: These layers receive the flattened features and perform classification. Each neuron in a dense layer is connected to all neurons in the previous layer.\n",
    "\n",
    "\n",
    "\n",
    "We will build a sequential CNN model using Keras. We will also use EarlyStopping, a callback function that monitors the validation loss and stops training when the loss no longer improves, which helps prevent overfitting."
   ]
  },
  {
   "cell_type": "code",
   "execution_count": 12,
   "id": "44fef76e",
   "metadata": {},
   "outputs": [
    {
     "name": "stderr",
     "output_type": "stream",
     "text": [
      "e:\\ENVE\\project\\fresh_env\\lib\\site-packages\\keras\\src\\layers\\convolutional\\base_conv.py:107: UserWarning: Do not pass an `input_shape`/`input_dim` argument to a layer. When using Sequential models, prefer using an `Input(shape)` object as the first layer in the model instead.\n",
      "  super().__init__(activity_regularizer=activity_regularizer, **kwargs)\n"
     ]
    },
    {
     "name": "stdout",
     "output_type": "stream",
     "text": [
      "Epoch 1/20\n",
      "\u001b[1m1688/1688\u001b[0m \u001b[32m━━━━━━━━━━━━━━━━━━━━\u001b[0m\u001b[37m\u001b[0m \u001b[1m15s\u001b[0m 7ms/step - accuracy: 0.8494 - loss: 0.4765 - val_accuracy: 0.9832 - val_loss: 0.0576\n",
      "Epoch 2/20\n",
      "\u001b[1m1688/1688\u001b[0m \u001b[32m━━━━━━━━━━━━━━━━━━━━\u001b[0m\u001b[37m\u001b[0m \u001b[1m13s\u001b[0m 8ms/step - accuracy: 0.9728 - loss: 0.0919 - val_accuracy: 0.9877 - val_loss: 0.0450\n",
      "Epoch 3/20\n",
      "\u001b[1m1688/1688\u001b[0m \u001b[32m━━━━━━━━━━━━━━━━━━━━\u001b[0m\u001b[37m\u001b[0m \u001b[1m13s\u001b[0m 8ms/step - accuracy: 0.9815 - loss: 0.0642 - val_accuracy: 0.9877 - val_loss: 0.0408\n",
      "Epoch 4/20\n",
      "\u001b[1m1688/1688\u001b[0m \u001b[32m━━━━━━━━━━━━━━━━━━━━\u001b[0m\u001b[37m\u001b[0m \u001b[1m14s\u001b[0m 8ms/step - accuracy: 0.9854 - loss: 0.0494 - val_accuracy: 0.9897 - val_loss: 0.0348\n",
      "Epoch 5/20\n",
      "\u001b[1m1688/1688\u001b[0m \u001b[32m━━━━━━━━━━━━━━━━━━━━\u001b[0m\u001b[37m\u001b[0m \u001b[1m18s\u001b[0m 11ms/step - accuracy: 0.9882 - loss: 0.0402 - val_accuracy: 0.9913 - val_loss: 0.0297\n",
      "Epoch 6/20\n",
      "\u001b[1m1688/1688\u001b[0m \u001b[32m━━━━━━━━━━━━━━━━━━━━\u001b[0m\u001b[37m\u001b[0m \u001b[1m14s\u001b[0m 7ms/step - accuracy: 0.9895 - loss: 0.0325 - val_accuracy: 0.9888 - val_loss: 0.0403\n",
      "Epoch 7/20\n",
      "\u001b[1m1688/1688\u001b[0m \u001b[32m━━━━━━━━━━━━━━━━━━━━\u001b[0m\u001b[37m\u001b[0m \u001b[1m11s\u001b[0m 7ms/step - accuracy: 0.9911 - loss: 0.0274 - val_accuracy: 0.9905 - val_loss: 0.0355\n",
      "Epoch 8/20\n",
      "\u001b[1m1688/1688\u001b[0m \u001b[32m━━━━━━━━━━━━━━━━━━━━\u001b[0m\u001b[37m\u001b[0m \u001b[1m12s\u001b[0m 7ms/step - accuracy: 0.9920 - loss: 0.0258 - val_accuracy: 0.9912 - val_loss: 0.0391\n",
      "Epoch 9/20\n",
      "\u001b[1m1688/1688\u001b[0m \u001b[32m━━━━━━━━━━━━━━━━━━━━\u001b[0m\u001b[37m\u001b[0m \u001b[1m12s\u001b[0m 7ms/step - accuracy: 0.9919 - loss: 0.0247 - val_accuracy: 0.9928 - val_loss: 0.0319\n",
      "Epoch 10/20\n",
      "\u001b[1m1688/1688\u001b[0m \u001b[32m━━━━━━━━━━━━━━━━━━━━\u001b[0m\u001b[37m\u001b[0m \u001b[1m16s\u001b[0m 9ms/step - accuracy: 0.9932 - loss: 0.0218 - val_accuracy: 0.9922 - val_loss: 0.0371\n"
     ]
    }
   ],
   "source": [
    "# Define the CNN model architecture\n",
    "model = Sequential([\n",
    "    # First convolutional block\n",
    "    Conv2D(32, (3, 3), activation='relu', input_shape=(28, 28, 1)),\n",
    "    MaxPooling2D((2, 2)),\n",
    "\n",
    "    # Second convolutional block\n",
    "    Conv2D(64, (3, 3), activation='relu'),\n",
    "    MaxPooling2D((2, 2)),\n",
    "\n",
    "    # Flatten the output and add dense layers\n",
    "    Flatten(),\n",
    "    Dense(128, activation='relu'),\n",
    "    Dropout(0.5), # Add dropout for regularization\n",
    "    Dense(10, activation='softmax') # Output layer for 10 classes\n",
    "])\n",
    "\n",
    "# Compile the model\n",
    "model.compile(optimizer='adam',\n",
    "              loss='sparse_categorical_crossentropy',\n",
    "              metrics=['accuracy'])\n",
    "\n",
    "# Define early stopping callback\n",
    "early_stopping = EarlyStopping(monitor='val_loss', patience=5, restore_best_weights=True)\n",
    "\n",
    "# Train the model with the validation set and early stopping\n",
    "history = model.fit(X_train, y_train,\n",
    "                    epochs=20,\n",
    "                    validation_data=(X_val, y_val),\n",
    "                    callbacks=[early_stopping])"
   ]
  },
  {
   "cell_type": "markdown",
   "id": "e439c4f5",
   "metadata": {},
   "source": [
    "## Testing the Model\n",
    "\n",
    "After training, we use the held-out test set to evaluate the model's final performance. This gives us an unbiased measure of how well the model generalizes to new, unseen data."
   ]
  },
  {
   "cell_type": "code",
   "execution_count": 13,
   "id": "3e8cd9b8",
   "metadata": {},
   "outputs": [
    {
     "name": "stdout",
     "output_type": "stream",
     "text": [
      "313/313 - 1s - 3ms/step - accuracy: 0.9915 - loss: 0.0251\n",
      "\n",
      "Test accuracy: 0.9915\n",
      "Test loss: 0.0251\n"
     ]
    }
   ],
   "source": [
    "# Evaluate the model on the test set\n",
    "test_loss, test_acc = model.evaluate(X_test, y_test, verbose=2)\n",
    "print(f\"\\nTest accuracy: {test_acc:.4f}\")\n",
    "print(f\"Test loss: {test_loss:.4f}\")"
   ]
  },
  {
   "cell_type": "markdown",
   "id": "68e05519",
   "metadata": {},
   "source": [
    "## Metrics Evaluation\n",
    "\n",
    "Beyond just accuracy, we need to look at other metrics to get a complete picture of the model's performance.\n",
    "\n",
    "- Precision: The ratio of correctly predicted positive observations to the total predicted positive observations.\n",
    "\n",
    "- Recall: The ratio of correctly predicted positive observations to all observations in the actual class.\n",
    "\n",
    "- F1-Score: The weighted average of Precision and Recall.\n",
    "\n",
    "- Confusion Matrix: A table that visualizes the performance of an algorithm. Each row represents the instances in an actual class, while each column represents the instances in a predicted class."
   ]
  },
  {
   "cell_type": "code",
   "execution_count": 14,
   "id": "b26d78a2",
   "metadata": {},
   "outputs": [
    {
     "name": "stdout",
     "output_type": "stream",
     "text": [
      "\u001b[1m313/313\u001b[0m \u001b[32m━━━━━━━━━━━━━━━━━━━━\u001b[0m\u001b[37m\u001b[0m \u001b[1m2s\u001b[0m 5ms/step\n",
      "\n",
      "Classification Report:\n",
      "              precision    recall  f1-score   support\n",
      "\n",
      "           0       0.99      1.00      0.99       980\n",
      "           1       0.99      1.00      1.00      1135\n",
      "           2       0.99      1.00      0.99      1032\n",
      "           3       0.99      1.00      0.99      1010\n",
      "           4       1.00      0.99      0.99       982\n",
      "           5       0.98      0.99      0.99       892\n",
      "           6       1.00      0.98      0.99       958\n",
      "           7       0.99      0.99      0.99      1028\n",
      "           8       0.99      0.99      0.99       974\n",
      "           9       0.99      0.98      0.98      1009\n",
      "\n",
      "    accuracy                           0.99     10000\n",
      "   macro avg       0.99      0.99      0.99     10000\n",
      "weighted avg       0.99      0.99      0.99     10000\n",
      "\n",
      "Confusion Matrix:\n",
      "[[ 976    0    2    0    0    0    1    1    0    0]\n",
      " [   0 1134    1    0    0    0    0    0    0    0]\n",
      " [   1    0 1027    0    0    0    0    4    0    0]\n",
      " [   0    0    1 1005    0    2    0    1    1    0]\n",
      " [   0    0    1    0  975    0    0    1    2    3]\n",
      " [   0    0    1    5    0  883    1    0    1    1]\n",
      " [   4    3    0    0    1    4  943    0    3    0]\n",
      " [   0    3    4    0    0    0    0 1020    0    1]\n",
      " [   1    0    2    1    0    1    0    0  967    2]\n",
      " [   2    3    0    2    2    7    0    5    3  985]]\n"
     ]
    }
   ],
   "source": [
    "# Get predictions for the test set\n",
    "y_pred_probs = model.predict(X_test)\n",
    "y_pred = np.argmax(y_pred_probs, axis=1)\n",
    "\n",
    "# Generate and print the classification report\n",
    "print(\"\\nClassification Report:\")\n",
    "print(classification_report(y_test, y_pred))\n",
    "\n",
    "# Generate and print the confusion matrix\n",
    "cm = confusion_matrix(y_test, y_pred)\n",
    "print(\"Confusion Matrix:\")\n",
    "print(cm)\n"
   ]
  },
  {
   "cell_type": "markdown",
   "id": "734b5c10",
   "metadata": {},
   "source": [
    "## Visualization\n",
    "\n",
    "Visualizing the training process helps us understand if the model is learning effectively and if it's overfitting. We plot the training and validation accuracy and loss over the epochs."
   ]
  },
  {
   "cell_type": "code",
   "execution_count": 15,
   "id": "37332deb",
   "metadata": {},
   "outputs": [
    {
     "data": {
      "image/png": "[encoded data removed]",
      "text/plain": [
       "<Figure size 1200x500 with 2 Axes>"
      ]
     },
     "metadata": {},
     "output_type": "display_data"
    }
   ],
   "source": [
    "# Plot training and validation accuracy\n",
    "plt.figure(figsize=(12, 5))\n",
    "plt.subplot(1, 2, 1)\n",
    "plt.plot(history.history['accuracy'], label='Training Accuracy')\n",
    "plt.plot(history.history['val_accuracy'], label='Validation Accuracy')\n",
    "plt.title('Training and Validation Accuracy')\n",
    "plt.xlabel('Epoch')\n",
    "plt.ylabel('Accuracy')\n",
    "plt.legend()\n",
    "\n",
    "# Plot training and validation loss\n",
    "plt.subplot(1, 2, 2)\n",
    "plt.plot(history.history['loss'], label='Training Loss')\n",
    "plt.plot(history.history['val_loss'], label='Validation Loss')\n",
    "plt.title('Training and Validation Loss')\n",
    "plt.xlabel('Epoch')\n",
    "plt.ylabel('Loss')\n",
    "plt.legend()\n",
    "plt.show()"
   ]
  },
  {
   "cell_type": "markdown",
   "id": "c3c0529b",
   "metadata": {},
   "source": [
    "## Conclusion\n",
    "\n",
    "This pipeline provides a robust framework for image classification with a CNN. The final test accuracy of 0.99 is excellent, indicating that the model generalizes exceptionally well to unseen data. The classification report confirms this, showing a precision, recall, and F1-score of 0.99 for almost all digits, with a perfect F1-score of 1.00 for digits 1 and 2.\n",
    "\n",
    "The confusion matrix provides more specific insights into the model's rare errors. It reveals that the model sometimes confuses digits that are visually similar, such as:\n",
    "\n",
    "- Digit 4 being misclassified as 9 (3 instances).\n",
    "\n",
    "- Digit 5 being misclassified as 3 (5 instances) or 8 (1 instance).\n",
    "\n",
    "- Digit 6 being misclassified as 5 (4 instances).\n",
    "\n",
    "Overall, the model's performance is highly impressive for a simple CNN architecture on the MNIST dataset. The training process was effective, resulting in a model that performs very well with a low number of errors."
   ]
  }
 ],
 "metadata": {
  "kernelspec": {
   "display_name": "fresh_env",
   "language": "python",
   "name": "python3"
  },
  "language_info": {
   "codemirror_mode": {
    "name": "ipython",
    "version": 3
   },
   "file_extension": ".py",
   "mimetype": "text/x-python",
   "name": "python",
   "nbconvert_exporter": "python",
   "pygments_lexer": "ipython3",
   "version": "3.10.11"
  }
 },
 "nbformat": 4,
 "nbformat_minor": 5
}
